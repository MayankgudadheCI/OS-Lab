{
  "nbformat": 4,
  "nbformat_minor": 0,
  "metadata": {
    "colab": {
      "name": "Reader writer.ipynb",
      "provenance": []
    },
    "kernelspec": {
      "name": "python3",
      "display_name": "Python 3"
    },
    "language_info": {
      "name": "python"
    }
  },
  "cells": [
    {
      "cell_type": "code",
      "metadata": {
        "colab": {
          "base_uri": "https://localhost:8080/"
        },
        "id": "VH486vTqZlGX",
        "outputId": "28fbfb6a-9849-4e1c-afb5-19f8b9a6964f"
      },
      "source": [
        "import time\n",
        "from threading import *\n",
        "\n",
        "file = \"Mayank gudadhe\"\n",
        "s = 1\n",
        "r = 1\n",
        "reader_count = 0\n",
        "\n",
        "\n",
        "def waitc():\n",
        "    global s\n",
        "    while (s == 0):\n",
        "        pass\n",
        "    s = 0\n",
        "\n",
        "\n",
        "def goc():\n",
        "    global s\n",
        "    s = 1\n",
        "\n",
        "\n",
        "def wait_reader():\n",
        "    global r\n",
        "    while (r == 0):\n",
        "        pass\n",
        "    r = 0\n",
        "\n",
        "\n",
        "def go_reader():\n",
        "    global r\n",
        "    r = 1\n",
        "\n",
        "\n",
        "def reader(r):\n",
        "    for i in range(3):\n",
        "        global reader_count\n",
        "        wait_reader()\n",
        "\n",
        "        reader_count = reader_count + 1\n",
        "        if (reader_count == 1):\n",
        "            waitc()\n",
        "\n",
        "        go_reader()\n",
        "        print(\"reader {0} reading file : {1} \".format(r, file))\n",
        "        wait_reader()\n",
        "        reader_count = reader_count - 1\n",
        "        if (reader_count == 0):\n",
        "            goc()\n",
        "        go_reader()\n",
        "        time.sleep(1)\n",
        "\n",
        "\n",
        "def writer():\n",
        "    for i in range(2):\n",
        "        global file\n",
        "        waitc()\n",
        "        file = input(\"write content in file : \")\n",
        "        print('writer writes : ', file)\n",
        "        goc()\n",
        "        time.sleep(1)\n",
        "\n",
        "\n",
        "writer = Thread(target=writer)\n",
        "reader1 = Thread(target=reader, args=(1,))\n",
        "reader2 = Thread(target=reader, args=(2,))\n",
        "\n",
        "reader1.start()\n",
        "reader2.start()\n",
        "writer.start()"
      ],
      "execution_count": 1,
      "outputs": [
        {
          "name": "stdout",
          "output_type": "stream",
          "text": [
            "reader 1 reading file : Mayank gudadhe \n",
            "reader 2 reading file : Mayank gudadhe \n",
            "write content in file : Mayank\n"
          ]
        }
      ]
    }
  ]
}