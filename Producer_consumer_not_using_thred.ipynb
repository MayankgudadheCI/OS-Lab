{
  "nbformat": 4,
  "nbformat_minor": 0,
  "metadata": {
    "colab": {
      "name": "Producer consumer not using thred.ipynb",
      "provenance": []
    },
    "kernelspec": {
      "name": "python3",
      "display_name": "Python 3"
    },
    "language_info": {
      "name": "python"
    }
  },
  "cells": [
    {
      "cell_type": "code",
      "metadata": {
        "colab": {
          "base_uri": "https://localhost:8080/"
        },
        "id": "TYy6Zk7wYipN",
        "outputId": "d05d2536-5263-467a-9f5b-6c1b29bb8432"
      },
      "source": [
        "import time\n",
        "from threading import *\n",
        "\n",
        "stack = 0\n",
        "s = 1\n",
        "def waitc():\n",
        "    global s\n",
        "    while (s == 0):\n",
        "        pass\n",
        "    s = 0\n",
        "\n",
        "def goc():\n",
        "    global s\n",
        "    s = 1\n",
        "\n",
        "def producer():\n",
        "        global stack\n",
        "        while(stack >= 5):\n",
        "            pass\n",
        "        waitc()\n",
        "        stack = stack + 1\n",
        "        print(\" producer produce 1 and stack is : \", stack)\n",
        "        time.sleep(.1)\n",
        "        goc()\n",
        "\n",
        "\n",
        "def consumer():\n",
        "        global stack\n",
        "        while (stack == 0):\n",
        "            pass\n",
        "        waitc()\n",
        "        stack = stack - 1\n",
        "        print(' consumer consume 1 and stack is : ', stack)\n",
        "        goc()\n",
        "        time.sleep(.1)\n",
        "for i in range (10):\n",
        "    if(i<5):\n",
        "        producer()\n",
        "    else:\n",
        "        consumer()"
      ],
      "execution_count": 1,
      "outputs": [
        {
          "output_type": "stream",
          "name": "stdout",
          "text": [
            " producer produce 1 and stack is :  1\n",
            " producer produce 1 and stack is :  2\n",
            " producer produce 1 and stack is :  3\n",
            " producer produce 1 and stack is :  4\n",
            " producer produce 1 and stack is :  5\n",
            " consumer consume 1 and stack is :  4\n",
            " consumer consume 1 and stack is :  3\n",
            " consumer consume 1 and stack is :  2\n",
            " consumer consume 1 and stack is :  1\n",
            " consumer consume 1 and stack is :  0\n"
          ]
        }
      ]
    }
  ]
}