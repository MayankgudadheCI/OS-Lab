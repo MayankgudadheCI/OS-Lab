{
  "nbformat": 4,
  "nbformat_minor": 0,
  "metadata": {
    "colab": {
      "name": "Producer consumer using thread.ipynb",
      "provenance": []
    },
    "kernelspec": {
      "name": "python3",
      "display_name": "Python 3"
    },
    "language_info": {
      "name": "python"
    }
  },
  "cells": [
    {
      "cell_type": "code",
      "metadata": {
        "colab": {
          "base_uri": "https://localhost:8080/"
        },
        "id": "3AdtCowsah3h",
        "outputId": "43dae89c-c45f-4d0a-8abf-841b8c271a06"
      },
      "source": [
        "import time\n",
        "from threading import *\n",
        "\n",
        "stack = 0\n",
        "s = 1\n",
        "def waitc():\n",
        "    global s\n",
        "    while (s == 0):\n",
        "        pass\n",
        "    s = 0\n",
        "\n",
        "def goc():\n",
        "    global s\n",
        "    s = 1\n",
        "\n",
        "def producer():\n",
        "    for j in range(10):\n",
        "        global stack\n",
        "        while(stack >= 5):\n",
        "            pass\n",
        "        waitc()\n",
        "        stack = stack + 1\n",
        "        print(\" producer produce 1 and stack is : \", stack)\n",
        "        time.sleep(.1)\n",
        "        goc()\n",
        "\n",
        "\n",
        "\n",
        "def consumer():\n",
        "    for i in range(10):\n",
        "        global stack\n",
        "        while (stack == 0):\n",
        "            pass\n",
        "        waitc()\n",
        "        stack = stack - 1\n",
        "        print(' consumer consume 1 and stack is : ', stack)\n",
        "        goc()\n",
        "        time.sleep(.1)\n",
        "\n",
        "\n",
        "Thread_obj1 = Thread(target=producer)\n",
        "Thread_obj2 = Thread(target=consumer)\n",
        "Thread_obj1.start()\n",
        "Thread_obj2.start()"
      ],
      "execution_count": 1,
      "outputs": [
        {
          "output_type": "stream",
          "name": "stdout",
          "text": [
            " producer produce 1 and stack is :  1\n",
            " producer produce 1 and stack is :  2\n",
            " producer produce 1 and stack is :  3\n"
          ]
        }
      ]
    }
  ]
}